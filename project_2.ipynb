{
 "cells": [
  {
   "cell_type": "markdown",
   "metadata": {},
   "source": [
    "# Project MSI 2 – Water chemical potential\n",
    "by Cristina Prat"
   ]
  },
  {
   "cell_type": "markdown",
   "metadata": {},
   "source": [
    "Download all the required files for the project from this [link](http://pub.htmd.org/CXCL12-confAnalysis/)"
   ]
  },
  {
   "cell_type": "markdown",
   "metadata": {},
   "source": [
    "### Objective"
   ]
  },
  {
   "cell_type": "markdown",
   "metadata": {},
   "source": [
    "We have to create a python module which given a set of molecular dynamics trajectories computes the volumetric map of the chemical potential for water.\n",
    "\n",
    "Assuming the simulations are in equilibrium, which is a reasonable assumption for water molecules, we have to measure the average water occupancy p(x,y,z) from the oxigen atom of water molecules on a 3D regular grid of 1A for each dimension."
   ]
  },
  {
   "cell_type": "markdown",
   "metadata": {},
   "source": [
    "### Getting started"
   ]
  },
  {
   "cell_type": "markdown",
   "metadata": {},
   "source": [
    "First we import the modules, molecules and its trajectories we are going to need for the project:"
   ]
  },
  {
   "cell_type": "code",
   "execution_count": 1,
   "metadata": {
    "collapsed": false
   },
   "outputs": [
    {
     "name": "stdout",
     "output_type": "stream",
     "text": [
      "New HTMD version (1.0.22) is available. You are currently on (1.0.16). Use 'conda update htmd' to update to the new version.\n"
     ]
    }
   ],
   "source": [
    "from htmd import *\n",
    "from htmd.molecule.util import maxDistance, writeVoxels\n",
    "htmd.config(viewer='vmd')"
   ]
  },
  {
   "cell_type": "markdown",
   "metadata": {},
   "source": [
    "Create a list of simulations for all the folders where we have trajectories:"
   ]
  },
  {
   "cell_type": "code",
   "execution_count": 2,
   "metadata": {
    "collapsed": false
   },
   "outputs": [
    {
     "name": "stdout",
     "output_type": "stream",
     "text": [
      "Creating simlist: 100% (10/10) [###################################] eta 00:01 -\n"
     ]
    }
   ],
   "source": [
    "sims = simlist(glob('./CXCL12-confAnalysis/*/'), glob('./CXCL12-confAnalysis/*/structure.pdb'))"
   ]
  },
  {
   "cell_type": "markdown",
   "metadata": {},
   "source": [
    "We define a function where for each molecule we wrap the coordinates back into the unit cell. Molecules will remain continuous, so may escape the bounds of the prinary unit cell. After that, the molecule is aligned to a reference structure:"
   ]
  },
  {
   "cell_type": "code",
   "execution_count": 3,
   "metadata": {
    "collapsed": false
   },
   "outputs": [],
   "source": [
    "def unit_cell(s):\n",
    "    molTraj = Molecule(s)\n",
    "    molTraj.wrap('protein')\n",
    "    molTraj.align('protein')\n",
    "    return molTraj"
   ]
  },
  {
   "cell_type": "markdown",
   "metadata": {},
   "source": [
    "As we need all the trajectories for this molecule, we apply the function \"unit_cell\" for each of them in order to get a list of trajectories, a way to select each trajectory easily:"
   ]
  },
  {
   "cell_type": "code",
   "execution_count": 4,
   "metadata": {
    "collapsed": false
   },
   "outputs": [],
   "source": [
    "trajectories = []\n",
    "for s in sims:\n",
    "    trajectories.append(unit_cell(s))"
   ]
  },
  {
   "cell_type": "markdown",
   "metadata": {},
   "source": [
    "At this point, by maxDistance we can get the maximum distance in angstrom of all the atoms of the molecules from its center. Therefore, as we have all the trajectories in a list, we can create another list where we put all the maximum distances and get the maximum of them:"
   ]
  },
  {
   "cell_type": "code",
   "execution_count": 5,
   "metadata": {
    "collapsed": false
   },
   "outputs": [],
   "source": [
    "D = []\n",
    "for molTraj in trajectories:\n",
    "    D.append(maxDistance(molTraj, 'all'))"
   ]
  },
  {
   "cell_type": "code",
   "execution_count": 6,
   "metadata": {
    "collapsed": false
   },
   "outputs": [
    {
     "data": {
      "text/plain": [
       "53"
      ]
     },
     "execution_count": 6,
     "metadata": {},
     "output_type": "execute_result"
    }
   ],
   "source": [
    "D_max = int(np.max(np.round(D)))\n",
    "D_max"
   ]
  },
  {
   "cell_type": "markdown",
   "metadata": {},
   "source": [
    "### Reposition of the molecule"
   ]
  },
  {
   "cell_type": "markdown",
   "metadata": {},
   "source": [
    "We need to move all molecules in order to avoid negative coordinates by a given vector which in that case is the value of the maximum distance to the center (D_max). Molecule.moveBy is used to translate the molecule and center it on [D_max, D_max, D_max]:"
   ]
  },
  {
   "cell_type": "code",
   "execution_count": 7,
   "metadata": {
    "collapsed": true
   },
   "outputs": [],
   "source": [
    "for molTraj in trajectories:\n",
    "    molTraj.moveBy([D_max,D_max,D_max])"
   ]
  },
  {
   "cell_type": "markdown",
   "metadata": {},
   "source": [
    "### Working with water duplicate object"
   ]
  },
  {
   "cell_type": "markdown",
   "metadata": {},
   "source": [
    "We create a new array of given shape and type filled with zeros. The dimension of this matrix is given by the double value of D_max with some extra points. We add some more points to take account waters along the trajectories because we have obtained the D_max only by the first frame. \n",
    "\n",
    "The matrix is used to count the number of water atoms on a 3D regular grid of 1A for each dimension:"
   ]
  },
  {
   "cell_type": "code",
   "execution_count": 8,
   "metadata": {
    "collapsed": false
   },
   "outputs": [],
   "source": [
    "dim_matrix = (D_max * 2) + 10\n",
    "matrix = np.zeros((dim_matrix, dim_matrix, dim_matrix))"
   ]
  },
  {
   "cell_type": "markdown",
   "metadata": {},
   "source": [
    "Now, we have to create a water duplicate object in order to simplify the code to measure the average water occupancy p(x,y,z) from the oxigen atom of water molecules on a 3D regular grid of 1A for each dimension. This is done by each trajectory.\n",
    "\n",
    "Molecule.filter is used to select water parts of the molecule and clean/remove all the rest.\n",
    "\n",
    "Let's iterate by trajectories, frames and atoms in the water object. This loop takes a while:"
   ]
  },
  {
   "cell_type": "code",
   "execution_count": 9,
   "metadata": {
    "collapsed": false
   },
   "outputs": [],
   "source": [
    "for molTraj in trajectories:\n",
    "    water = molTraj.copy()\n",
    "    water.filter('water and name OH2')\n",
    "    for frame in range(len(water.step)):\n",
    "        try:\n",
    "            for atom in range(len(water.coords)):\n",
    "                coords = water.coords[atom, :, frame]\n",
    "                matrix[int(round(coords[0]))][int(round(coords[1]))][int(round(coords[2]))] += 1\n",
    "        except IndexError:\n",
    "            pass"
   ]
  },
  {
   "cell_type": "markdown",
   "metadata": {},
   "source": [
    "The chemical potential is obtained from the occupancy as G(x,y,z)= - kB T log(p(x,y,z)). But, before calculate it, we need to normalize our matrix by the number of frames, coords and trajectories:"
   ]
  },
  {
   "cell_type": "code",
   "execution_count": 10,
   "metadata": {
    "collapsed": false
   },
   "outputs": [],
   "source": [
    "norm_matrix = matrix / (len(water.step) * len(water.coords) * len(sims))"
   ]
  },
  {
   "cell_type": "markdown",
   "metadata": {},
   "source": [
    "Let's define the constants for calculate the chemical potential:"
   ]
  },
  {
   "cell_type": "code",
   "execution_count": 11,
   "metadata": {
    "collapsed": true
   },
   "outputs": [],
   "source": [
    "kb = 0.001987191 # kcal/mol/K\n",
    "T = 298 # K"
   ]
  },
  {
   "cell_type": "code",
   "execution_count": 12,
   "metadata": {
    "collapsed": false
   },
   "outputs": [],
   "source": [
    "occupancy = - kb * T * np.log(norm_matrix + 1e-20)"
   ]
  },
  {
   "cell_type": "markdown",
   "metadata": {},
   "source": [
    "### Save a volumetric file"
   ]
  },
  {
   "cell_type": "markdown",
   "metadata": {},
   "source": [
    "We need to define the different parameters for 'writeVoxel':\n",
    "- vecMin: 3D vector denoting the minimal corner of the grid\n",
    "- vecMax: 3D vector denoting the maximal corner of the grid\n",
    "- vecRes: 3D vector denoting the resolution of the grid in each dimension"
   ]
  },
  {
   "cell_type": "code",
   "execution_count": 13,
   "metadata": {
    "collapsed": false
   },
   "outputs": [],
   "source": [
    "vecMin = np.array([0,0,0])\n",
    "vecMax = np.array([dim_matrix, dim_matrix, dim_matrix])\n",
    "vecRes = np.array([1,1,1])"
   ]
  },
  {
   "cell_type": "markdown",
   "metadata": {},
   "source": [
    "We use the function 'writeVoxel' of VMD to save a volumetric file (.cube):"
   ]
  },
  {
   "cell_type": "code",
   "execution_count": 14,
   "metadata": {
    "collapsed": false
   },
   "outputs": [],
   "source": [
    "writeVoxels(occupancy, 'box.cube', vecMin, vecMax, vecRes)"
   ]
  },
  {
   "cell_type": "markdown",
   "metadata": {},
   "source": [
    "It can then visualized on top of the PDB of the molecule as an isosurface on VMD. So, when we open the following command, we have to load data into molecule and browse the 'box.cube' generated.\n",
    "\n",
    "We can select the 'Drawing Method' called 'Isosurface' which computes and draws a surface within a volumetric data field, on a 3D surface corresponding to points with a single scalar value."
   ]
  },
  {
   "cell_type": "code",
   "execution_count": 15,
   "metadata": {
    "collapsed": false
   },
   "outputs": [],
   "source": [
    "molTraj.view(sel='protein', style='NewCartoon')"
   ]
  },
  {
   "cell_type": "markdown",
   "metadata": {},
   "source": [
    "The following image shows the 'structure.pdb', the 'Isosurface' 'box.cube' calculated and also the 'VolumeSlice'.\n",
    "- The 'Isosurface' representation is drawed given a isovalue of 7.5 and step 2.\n",
    "- The 'VolumeSlice' representation draws a texture mapped two-dimensional slice from a volumetric data set already loaded into VMD"
   ]
  },
  {
   "cell_type": "markdown",
   "metadata": {},
   "source": [
    "<img src=\"project_2.png\" alt=\"Drawing\" style=\"width: 1000px;\"/>"
   ]
  }
 ],
 "metadata": {
  "kernelspec": {
   "display_name": "Python 3",
   "language": "python",
   "name": "python3"
  },
  "language_info": {
   "codemirror_mode": {
    "name": "ipython",
    "version": 3
   },
   "file_extension": ".py",
   "mimetype": "text/x-python",
   "name": "python",
   "nbconvert_exporter": "python",
   "pygments_lexer": "ipython3",
   "version": "3.5.1"
  }
 },
 "nbformat": 4,
 "nbformat_minor": 0
}
